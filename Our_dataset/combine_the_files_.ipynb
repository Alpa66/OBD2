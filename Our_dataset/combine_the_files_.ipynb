{
 "cells": [
  {
   "cell_type": "code",
   "execution_count": 2,
   "id": "8e37d1fa",
   "metadata": {},
   "outputs": [
    {
     "name": "stdout",
     "output_type": "stream",
     "text": [
      "can1.csv  can2.csv  oil1.csv  oil2.csv\toil3.csv\n"
     ]
    }
   ],
   "source": [
    "!ls data/in/logger_data/2024.12.16/"
   ]
  },
  {
   "cell_type": "code",
   "execution_count": 77,
   "id": "78355e50",
   "metadata": {},
   "outputs": [],
   "source": [
    "import pandas as pd\n",
    "import os\n",
    "import glob\n",
    "import re\n",
    "\n",
    "def get_final_can_df(folder_date_str):\n",
    "    \"\"\"\n",
    "    Given a folder name like '2024.12.16', returns the final CAN dataframe\n",
    "    with unwanted columns dropped and grouped by floored datetime.\n",
    "    \"\"\"\n",
    "    \n",
    "    folder_path = os.path.join('data/in/logger_data/', folder_date_str)\n",
    "    can_files = glob.glob(os.path.join(folder_path, 'can*.csv'))\n",
    "    cols_to_drop = ['AFR', 'AFR-LC', 'ADC_MAF', 'SSM', 'ACC_ENGINE']\n",
    "    all_dfs = []\n",
    "\n",
    "    for file in can_files:\n",
    "        df = pd.read_csv(file, delimiter=';', decimal=',')\n",
    "        df['datetime_temp'] = pd.to_datetime(\n",
    "            folder_date_str + ' ' + df['Time'].astype(str),\n",
    "            format='%Y.%m.%d %H:%M:%S.%f',\n",
    "            errors='coerce'\n",
    "        )\n",
    "        df['datetime'] = df['datetime_temp'].dt.floor('s')\n",
    "        df_grouped = df.groupby('datetime').median(numeric_only=True).reset_index()\n",
    "        df_grouped = df_grouped.drop(columns=[col for col in cols_to_drop if col in df_grouped.columns])\n",
    "        all_dfs.append(df_grouped)\n",
    "\n",
    "    if all_dfs:\n",
    "        final_df = pd.concat(all_dfs, ignore_index=True)\n",
    "        final_df = final_df.sort_values(by='datetime').reset_index(drop=True)\n",
    "        return final_df\n",
    "    else:\n",
    "        print(f\"No CAN files found in {folder_path}\")\n",
    "        return pd.DataFrame()\n",
    "\n",
    "def get_final_oil_df(folder_date_str):\n",
    "    \"\"\"\n",
    "    Given a folder name like '2024.12.16', returns the final OIL dataframe\n",
    "    with the first 5 columns, cleaned and grouped by floored datetime.\n",
    "    \"\"\"\n",
    "\n",
    "    folder_path = os.path.join('data/in/logger_data/', folder_date_str)\n",
    "    oil_files = glob.glob(os.path.join(folder_path, 'oil*.csv'))\n",
    "    oil_dfs = []\n",
    "\n",
    "    for file in oil_files:\n",
    "        print(f\"Processing file: {file}\")\n",
    "        df = pd.read_csv(file, delimiter=';', decimal=',')\n",
    "        df = df.iloc[:, :5]  # Take only the first 5 columns\n",
    "        # Clean numeric columns\n",
    "        for col in ['vp', 'vt']:\n",
    "            df[col] = df[col].astype(str).str.replace(r'[^0-9,.-]', '', regex=True)\n",
    "            df[col] = df[col].str.replace(',', '.', regex=False)\n",
    "            df[col] = pd.to_numeric(df[col], errors='coerce')\n",
    "        df = df.dropna()\n",
    "        # Combine folder date with 'Time' column to create full datetime\n",
    "        df['datetime'] = pd.to_datetime(\n",
    "            folder_date_str + ' ' + df['Time'].astype(str),\n",
    "            format='%Y.%m.%d %H:%M:%S',\n",
    "            errors='coerce'\n",
    "        )\n",
    "        df_grouped = df.groupby('datetime').median(numeric_only=True).reset_index()\n",
    "        oil_dfs.append(df_grouped)\n",
    "    \n",
    "    if oil_dfs:\n",
    "        oil_final_df = pd.concat(oil_dfs, ignore_index=True)\n",
    "        oil_final_df = oil_final_df.sort_values(by='datetime').reset_index(drop=True)\n",
    "        return oil_final_df\n",
    "    else:\n",
    "        print(f\"No OIL files found in {folder_path}\")\n",
    "        return pd.DataFrame()"
   ]
  },
  {
   "cell_type": "code",
   "execution_count": 85,
   "id": "2606aad0",
   "metadata": {},
   "outputs": [
    {
     "name": "stdout",
     "output_type": "stream",
     "text": [
      "Processing folder: 2025.02.02\n",
      "Processing file: data/in/logger_data/2025.02.02/oil2.csv\n",
      "Processing file: data/in/logger_data/2025.02.02/oil3.csv\n",
      "Processing file: data/in/logger_data/2025.02.02/oil4.csv\n",
      "Processing file: data/in/logger_data/2025.02.02/oil1.csv\n",
      "can_final_df shape for 2025.02.02: (6354, 18)\n",
      "oil_final_df shape for 2025.02.02: (6133, 5)\n",
      "merged_df shape for 2025.02.02: (6106, 22)\n",
      "Processing folder: 2024.12.30\n",
      "Processing file: data/in/logger_data/2024.12.30/oil2.csv\n",
      "Processing file: data/in/logger_data/2024.12.30/oil3.csv\n",
      "Processing file: data/in/logger_data/2024.12.30/oil1.csv\n",
      "can_final_df shape for 2024.12.30: (9809, 18)\n",
      "oil_final_df shape for 2024.12.30: (6229, 5)\n",
      "merged_df shape for 2024.12.30: (6167, 22)\n",
      "Processing folder: 2024.12.28\n",
      "Processing file: data/in/logger_data/2024.12.28/oil2.csv\n",
      "Processing file: data/in/logger_data/2024.12.28/oil1.csv\n",
      "can_final_df shape for 2024.12.28: (6921, 18)\n",
      "oil_final_df shape for 2024.12.28: (8165, 5)\n",
      "merged_df shape for 2024.12.28: (6879, 22)\n",
      "Processing folder: 2025.01.08\n",
      "Processing file: data/in/logger_data/2025.01.08/oil2.csv\n",
      "Processing file: data/in/logger_data/2025.01.08/oil3.csv\n",
      "Processing file: data/in/logger_data/2025.01.08/oil1.csv\n",
      "can_final_df shape for 2025.01.08: (4521, 18)\n",
      "oil_final_df shape for 2025.01.08: (4451, 5)\n",
      "merged_df shape for 2025.01.08: (4435, 22)\n",
      "Processing folder: 2025.01.31\n",
      "Processing file: data/in/logger_data/2025.01.31/oil2.csv\n",
      "Processing file: data/in/logger_data/2025.01.31/oil3.csv\n",
      "Processing file: data/in/logger_data/2025.01.31/oil6.csv\n",
      "Processing file: data/in/logger_data/2025.01.31/oil4.csv\n",
      "Processing file: data/in/logger_data/2025.01.31/oil1.csv\n",
      "Processing file: data/in/logger_data/2025.01.31/oil5.csv\n",
      "can_final_df shape for 2025.01.31: (10379, 18)\n",
      "oil_final_df shape for 2025.01.31: (10265, 5)\n",
      "merged_df shape for 2025.01.31: (10237, 22)\n",
      "Processing folder: 2025.02.10\n",
      "Processing file: data/in/logger_data/2025.02.10/oil2.csv\n",
      "Processing file: data/in/logger_data/2025.02.10/oil3.csv\n",
      "Processing file: data/in/logger_data/2025.02.10/oil4.csv\n",
      "Processing file: data/in/logger_data/2025.02.10/oil1.csv\n",
      "can_final_df shape for 2025.02.10: (11504, 18)\n",
      "oil_final_df shape for 2025.02.10: (12326, 5)\n",
      "merged_df shape for 2025.02.10: (11380, 22)\n",
      "Processing folder: 2025.01.24\n",
      "Processing file: data/in/logger_data/2025.01.24/oil1.csv\n",
      "can_final_df shape for 2025.01.24: (3097, 18)\n",
      "oil_final_df shape for 2025.01.24: (2447, 5)\n",
      "merged_df shape for 2025.01.24: (1426, 22)\n",
      "Processing folder: 2024.12.21\n",
      "Processing file: data/in/logger_data/2024.12.21/oil8.csv\n",
      "Processing file: data/in/logger_data/2024.12.21/oil9.csv\n",
      "Processing file: data/in/logger_data/2024.12.21/oil10.csv\n"
     ]
    },
    {
     "name": "stderr",
     "output_type": "stream",
     "text": [
      "/tmp/ipykernel_7037/653075486.py:49: DtypeWarning: Columns (2,4) have mixed types. Specify dtype option on import or set low_memory=False.\n",
      "  df = pd.read_csv(file, delimiter=';', decimal=',')\n"
     ]
    },
    {
     "name": "stdout",
     "output_type": "stream",
     "text": [
      "can_final_df shape for 2024.12.21: (17268, 18)\n",
      "oil_final_df shape for 2024.12.21: (17325, 5)\n",
      "merged_df shape for 2024.12.21: (17247, 22)\n",
      "Processing folder: 2025.01.05\n",
      "Processing file: data/in/logger_data/2025.01.05/oil2.csv\n",
      "Processing file: data/in/logger_data/2025.01.05/oil3.csv\n",
      "Processing file: data/in/logger_data/2025.01.05/oil1.csv\n",
      "can_final_df shape for 2025.01.05: (6736, 18)\n",
      "oil_final_df shape for 2025.01.05: (8019, 5)\n",
      "merged_df shape for 2025.01.05: (6673, 22)\n",
      "Processing folder: 2025.01.20\n",
      "Processing file: data/in/logger_data/2025.01.20/oil2.csv\n",
      "Processing file: data/in/logger_data/2025.01.20/oil3.csv\n",
      "Processing file: data/in/logger_data/2025.01.20/oil4.csv\n",
      "Processing file: data/in/logger_data/2025.01.20/oil1.csv\n",
      "Processing file: data/in/logger_data/2025.01.20/oil5.csv\n",
      "can_final_df shape for 2025.01.20: (8255, 18)\n",
      "oil_final_df shape for 2025.01.20: (9962, 5)\n",
      "merged_df shape for 2025.01.20: (8154, 22)\n",
      "Processing folder: 2025.01.04\n",
      "Processing file: data/in/logger_data/2025.01.04/oil2.csv\n",
      "Processing file: data/in/logger_data/2025.01.04/oil3.csv\n",
      "Processing file: data/in/logger_data/2025.01.04/oil1.csv\n",
      "can_final_df shape for 2025.01.04: (8890, 18)\n",
      "oil_final_df shape for 2025.01.04: (7105, 5)\n",
      "merged_df shape for 2025.01.04: (6901, 22)\n",
      "Processing folder: 2024.12.27\n",
      "Processing file: data/in/logger_data/2024.12.27/oil2.csv\n",
      "Processing file: data/in/logger_data/2024.12.27/oil3.csv\n",
      "Processing file: data/in/logger_data/2024.12.27/oil6.csv\n",
      "Processing file: data/in/logger_data/2024.12.27/oil4.csv\n",
      "Processing file: data/in/logger_data/2024.12.27/oil1.csv\n",
      "Processing file: data/in/logger_data/2024.12.27/oil7.csv\n",
      "Processing file: data/in/logger_data/2024.12.27/oil5.csv\n",
      "can_final_df shape for 2024.12.27: (14576, 18)\n",
      "oil_final_df shape for 2024.12.27: (15188, 5)\n",
      "merged_df shape for 2024.12.27: (14460, 22)\n",
      "Processing folder: 2025.01.23\n",
      "Processing file: data/in/logger_data/2025.01.23/oil2.csv\n",
      "Processing file: data/in/logger_data/2025.01.23/oil1.csv\n",
      "can_final_df shape for 2025.01.23: (2983, 18)\n",
      "oil_final_df shape for 2025.01.23: (3036, 5)\n",
      "merged_df shape for 2025.01.23: (2938, 22)\n",
      "Processing folder: 2025.02.13\n",
      "Processing file: data/in/logger_data/2025.02.13/oil2.csv\n",
      "Processing file: data/in/logger_data/2025.02.13/oil3.csv\n",
      "Processing file: data/in/logger_data/2025.02.13/oil1.csv\n",
      "can_final_df shape for 2025.02.13: (5301, 18)\n",
      "oil_final_df shape for 2025.02.13: (6444, 5)\n",
      "merged_df shape for 2025.02.13: (5248, 22)\n",
      "Processing folder: 2024.12.20\n",
      "Processing file: data/in/logger_data/2024.12.20/oil6.csv\n",
      "Processing file: data/in/logger_data/2024.12.20/oil4.csv\n",
      "Processing file: data/in/logger_data/2024.12.20/oil7.csv\n"
     ]
    },
    {
     "name": "stderr",
     "output_type": "stream",
     "text": [
      "/tmp/ipykernel_7037/653075486.py:49: DtypeWarning: Columns (2,4) have mixed types. Specify dtype option on import or set low_memory=False.\n",
      "  df = pd.read_csv(file, delimiter=';', decimal=',')\n"
     ]
    },
    {
     "name": "stdout",
     "output_type": "stream",
     "text": [
      "Processing file: data/in/logger_data/2024.12.20/oil5.csv\n",
      "can_final_df shape for 2024.12.20: (19798, 18)\n",
      "oil_final_df shape for 2024.12.20: (22676, 5)\n",
      "merged_df shape for 2024.12.20: (19714, 22)\n",
      "Processing folder: 2025.02.04\n",
      "Processing file: data/in/logger_data/2025.02.04/oil2.csv\n",
      "Processing file: data/in/logger_data/2025.02.04/oil3.csv\n",
      "Processing file: data/in/logger_data/2025.02.04/oil1.csv\n",
      "can_final_df shape for 2025.02.04: (11520, 18)\n",
      "oil_final_df shape for 2025.02.04: (11436, 5)\n",
      "merged_df shape for 2025.02.04: (11423, 22)\n",
      "Processing folder: 2025.02.12\n",
      "Processing file: data/in/logger_data/2025.02.12/oil2.csv\n",
      "Processing file: data/in/logger_data/2025.02.12/oil3.csv\n",
      "Processing file: data/in/logger_data/2025.02.12/oil1.csv\n",
      "can_final_df shape for 2025.02.12: (9908, 18)\n",
      "oil_final_df shape for 2025.02.12: (9942, 5)\n",
      "merged_df shape for 2025.02.12: (9850, 22)\n",
      "Processing folder: 2025.02.05\n",
      "Processing file: data/in/logger_data/2025.02.05/oil2.csv\n",
      "Processing file: data/in/logger_data/2025.02.05/oil3.csv\n",
      "Processing file: data/in/logger_data/2025.02.05/oil4.csv\n",
      "Processing file: data/in/logger_data/2025.02.05/oil1.csv\n",
      "can_final_df shape for 2025.02.05: (7955, 18)\n",
      "oil_final_df shape for 2025.02.05: (7876, 5)\n",
      "merged_df shape for 2025.02.05: (7854, 22)\n",
      "Processing folder: 2024.12.26\n",
      "Processing file: data/in/logger_data/2024.12.26/oil2.csv\n",
      "Processing file: data/in/logger_data/2024.12.26/oil3.csv\n"
     ]
    },
    {
     "name": "stderr",
     "output_type": "stream",
     "text": [
      "/tmp/ipykernel_7037/653075486.py:49: DtypeWarning: Columns (2,4) have mixed types. Specify dtype option on import or set low_memory=False.\n",
      "  df = pd.read_csv(file, delimiter=';', decimal=',')\n"
     ]
    },
    {
     "name": "stdout",
     "output_type": "stream",
     "text": [
      "Processing file: data/in/logger_data/2024.12.26/oil4.csv\n",
      "Processing file: data/in/logger_data/2024.12.26/oil1.csv\n",
      "can_final_df shape for 2024.12.26: (15147, 18)\n",
      "oil_final_df shape for 2024.12.26: (15586, 5)\n",
      "merged_df shape for 2024.12.26: (10651, 22)\n",
      "Processing folder: 2025.02.08\n",
      "Processing file: data/in/logger_data/2025.02.08/oil2.csv\n",
      "Processing file: data/in/logger_data/2025.02.08/oil3.csv\n",
      "Processing file: data/in/logger_data/2025.02.08/oil4.csv\n",
      "Processing file: data/in/logger_data/2025.02.08/oil1.csv\n",
      "Processing file: data/in/logger_data/2025.02.08/oil5.csv\n"
     ]
    },
    {
     "name": "stderr",
     "output_type": "stream",
     "text": [
      "/tmp/ipykernel_7037/653075486.py:49: DtypeWarning: Columns (2,4) have mixed types. Specify dtype option on import or set low_memory=False.\n",
      "  df = pd.read_csv(file, delimiter=';', decimal=',')\n"
     ]
    },
    {
     "name": "stdout",
     "output_type": "stream",
     "text": [
      "can_final_df shape for 2025.02.08: (20415, 18)\n",
      "oil_final_df shape for 2025.02.08: (20959, 5)\n",
      "merged_df shape for 2025.02.08: (20263, 22)\n",
      "Processing folder: 2024.12.23\n",
      "Processing file: data/in/logger_data/2024.12.23/oil2.csv\n",
      "Processing file: data/in/logger_data/2024.12.23/oil3.csv\n"
     ]
    },
    {
     "name": "stderr",
     "output_type": "stream",
     "text": [
      "/tmp/ipykernel_7037/653075486.py:49: DtypeWarning: Columns (2,4) have mixed types. Specify dtype option on import or set low_memory=False.\n",
      "  df = pd.read_csv(file, delimiter=';', decimal=',')\n"
     ]
    },
    {
     "name": "stdout",
     "output_type": "stream",
     "text": [
      "Processing file: data/in/logger_data/2024.12.23/oil4.csv\n",
      "Processing file: data/in/logger_data/2024.12.23/oil1.csv\n",
      "can_final_df shape for 2024.12.23: (13477, 18)\n",
      "oil_final_df shape for 2024.12.23: (13637, 5)\n",
      "merged_df shape for 2024.12.23: (13382, 22)\n",
      "Processing folder: 2025.02.01\n",
      "Processing file: data/in/logger_data/2025.02.01/oil2.csv\n",
      "Processing file: data/in/logger_data/2025.02.01/oil3.csv\n",
      "Processing file: data/in/logger_data/2025.02.01/oil4.csv\n",
      "Processing file: data/in/logger_data/2025.02.01/oil1.csv\n",
      "can_final_df shape for 2025.02.01: (4405, 18)\n",
      "oil_final_df shape for 2025.02.01: (4346, 5)\n",
      "merged_df shape for 2025.02.01: (4325, 22)\n",
      "Processing folder: 2025.01.29\n",
      "Processing file: data/in/logger_data/2025.01.29/oil2.csv\n",
      "Processing file: data/in/logger_data/2025.01.29/oil1.csv\n",
      "can_final_df shape for 2025.01.29: (5960, 18)\n",
      "oil_final_df shape for 2025.01.29: (6121, 5)\n",
      "merged_df shape for 2025.01.29: (5867, 22)\n",
      "Processing folder: 2025.01.03\n",
      "Processing file: data/in/logger_data/2025.01.03/oil2.csv\n",
      "Processing file: data/in/logger_data/2025.01.03/oil3.csv\n",
      "Processing file: data/in/logger_data/2025.01.03/oil4.csv\n",
      "Processing file: data/in/logger_data/2025.01.03/oil1.csv\n",
      "Processing file: data/in/logger_data/2025.01.03/oil5.csv\n",
      "can_final_df shape for 2025.01.03: (7716, 18)\n",
      "oil_final_df shape for 2025.01.03: (8939, 5)\n",
      "merged_df shape for 2025.01.03: (7636, 22)\n",
      "Processing folder: 2025.01.28\n",
      "Processing file: data/in/logger_data/2025.01.28/oil2.csv\n",
      "Processing file: data/in/logger_data/2025.01.28/oil1.csv\n",
      "can_final_df shape for 2025.01.28: (4092, 18)\n",
      "oil_final_df shape for 2025.01.28: (4067, 5)\n",
      "merged_df shape for 2025.01.28: (4003, 22)\n",
      "Processing folder: 2025.01.26\n",
      "Processing file: data/in/logger_data/2025.01.26/oil2.csv\n",
      "Processing file: data/in/logger_data/2025.01.26/oil3.csv\n",
      "Processing file: data/in/logger_data/2025.01.26/oil1.csv\n",
      "can_final_df shape for 2025.01.26: (7521, 18)\n",
      "oil_final_df shape for 2025.01.26: (7442, 5)\n",
      "merged_df shape for 2025.01.26: (7417, 22)\n",
      "Processing folder: 2025.01.07\n",
      "Processing file: data/in/logger_data/2025.01.07/oil2.csv\n",
      "Processing file: data/in/logger_data/2025.01.07/oil3.csv\n",
      "Processing file: data/in/logger_data/2025.01.07/oil1.csv\n",
      "can_final_df shape for 2025.01.07: (10464, 18)\n",
      "oil_final_df shape for 2025.01.07: (10376, 5)\n",
      "merged_df shape for 2025.01.07: (10185, 22)\n",
      "Processing folder: 2024.12.17\n",
      "Processing file: data/in/logger_data/2024.12.17/oil5.csv\n",
      "can_final_df shape for 2024.12.17: (2001, 18)\n",
      "oil_final_df shape for 2024.12.17: (1993, 5)\n",
      "merged_df shape for 2024.12.17: (1981, 22)\n",
      "Processing folder: 2024.12.25\n",
      "Processing file: data/in/logger_data/2024.12.25/oil2.csv\n",
      "Processing file: data/in/logger_data/2024.12.25/oil3.csv\n",
      "Processing file: data/in/logger_data/2024.12.25/oil6.csv\n",
      "Processing file: data/in/logger_data/2024.12.25/oil4.csv\n"
     ]
    },
    {
     "name": "stderr",
     "output_type": "stream",
     "text": [
      "/tmp/ipykernel_7037/653075486.py:49: DtypeWarning: Columns (2,4) have mixed types. Specify dtype option on import or set low_memory=False.\n",
      "  df = pd.read_csv(file, delimiter=';', decimal=',')\n"
     ]
    },
    {
     "name": "stdout",
     "output_type": "stream",
     "text": [
      "Processing file: data/in/logger_data/2024.12.25/oil1.csv\n",
      "Processing file: data/in/logger_data/2024.12.25/oil5.csv\n",
      "can_final_df shape for 2024.12.25: (25002, 18)\n",
      "oil_final_df shape for 2024.12.25: (25169, 5)\n",
      "merged_df shape for 2024.12.25: (24793, 22)\n",
      "Processing folder: 2025.01.09\n",
      "Processing file: data/in/logger_data/2025.01.09/oil2.csv\n",
      "Processing file: data/in/logger_data/2025.01.09/oil1.csv\n",
      "can_final_df shape for 2025.01.09: (3079, 18)\n",
      "oil_final_df shape for 2025.01.09: (3141, 5)\n",
      "merged_df shape for 2025.01.09: (3018, 22)\n",
      "Processing folder: 2024.12.19\n",
      "Processing file: data/in/logger_data/2024.12.19/oil2.csv\n",
      "Processing file: data/in/logger_data/2024.12.19/oil3.csv\n",
      "Processing file: data/in/logger_data/2024.12.19/oil4.csv\n",
      "Processing file: data/in/logger_data/2024.12.19/oil1.csv\n",
      "Processing file: data/in/logger_data/2024.12.19/oil5.csv\n",
      "can_final_df shape for 2024.12.19: (13258, 18)\n",
      "oil_final_df shape for 2024.12.19: (14432, 5)\n",
      "merged_df shape for 2024.12.19: (13135, 22)\n",
      "Processing folder: 2024.12.16\n",
      "Processing file: data/in/logger_data/2024.12.16/oil2.csv\n",
      "Processing file: data/in/logger_data/2024.12.16/oil3.csv\n",
      "Processing file: data/in/logger_data/2024.12.16/oil1.csv\n",
      "can_final_df shape for 2024.12.16: (6799, 18)\n",
      "oil_final_df shape for 2024.12.16: (8196, 5)\n",
      "merged_df shape for 2024.12.16: (6798, 22)\n",
      "Processing folder: 2025.01.27\n",
      "Processing file: data/in/logger_data/2025.01.27/oil2.csv\n",
      "Processing file: data/in/logger_data/2025.01.27/oil3.csv\n",
      "Processing file: data/in/logger_data/2025.01.27/oil4.csv\n",
      "Processing file: data/in/logger_data/2025.01.27/oil1.csv\n",
      "can_final_df shape for 2025.01.27: (15339, 18)\n",
      "oil_final_df shape for 2025.01.27: (15336, 5)\n",
      "merged_df shape for 2025.01.27: (15233, 22)\n"
     ]
    },
    {
     "name": "stderr",
     "output_type": "stream",
     "text": [
      "/tmp/ipykernel_7037/653075486.py:49: DtypeWarning: Columns (2,4) have mixed types. Specify dtype option on import or set low_memory=False.\n",
      "  df = pd.read_csv(file, delimiter=';', decimal=',')\n"
     ]
    },
    {
     "name": "stdout",
     "output_type": "stream",
     "text": [
      "Processing folder: 2024.12.22\n",
      "Processing file: data/in/logger_data/2024.12.22/oil11.csv\n",
      "Processing file: data/in/logger_data/2024.12.22/oil14.csv\n",
      "Processing file: data/in/logger_data/2024.12.22/oil13.csv\n",
      "Processing file: data/in/logger_data/2024.12.22/oil10.csv\n",
      "Processing file: data/in/logger_data/2024.12.22/oil12.csv\n"
     ]
    },
    {
     "name": "stderr",
     "output_type": "stream",
     "text": [
      "/tmp/ipykernel_7037/653075486.py:49: DtypeWarning: Columns (2,4) have mixed types. Specify dtype option on import or set low_memory=False.\n",
      "  df = pd.read_csv(file, delimiter=';', decimal=',')\n",
      "/tmp/ipykernel_7037/653075486.py:49: DtypeWarning: Columns (2,4) have mixed types. Specify dtype option on import or set low_memory=False.\n",
      "  df = pd.read_csv(file, delimiter=';', decimal=',')\n"
     ]
    },
    {
     "name": "stdout",
     "output_type": "stream",
     "text": [
      "can_final_df shape for 2024.12.22: (30516, 18)\n",
      "oil_final_df shape for 2024.12.22: (30703, 5)\n",
      "merged_df shape for 2024.12.22: (30516, 22)\n",
      "Processing folder: 2024.12.24\n",
      "Processing file: data/in/logger_data/2024.12.24/oil2.csv\n",
      "Processing file: data/in/logger_data/2024.12.24/oil3.csv\n",
      "Processing file: data/in/logger_data/2024.12.24/oil6.csv\n",
      "Processing file: data/in/logger_data/2024.12.24/oil4.csv\n"
     ]
    },
    {
     "name": "stderr",
     "output_type": "stream",
     "text": [
      "/tmp/ipykernel_7037/653075486.py:49: DtypeWarning: Columns (2,4) have mixed types. Specify dtype option on import or set low_memory=False.\n",
      "  df = pd.read_csv(file, delimiter=';', decimal=',')\n"
     ]
    },
    {
     "name": "stdout",
     "output_type": "stream",
     "text": [
      "Processing file: data/in/logger_data/2024.12.24/oil1.csv\n",
      "Processing file: data/in/logger_data/2024.12.24/oil7.csv\n",
      "Processing file: data/in/logger_data/2024.12.24/oil5.csv\n",
      "can_final_df shape for 2024.12.24: (31597, 18)\n",
      "oil_final_df shape for 2024.12.24: (33337, 5)\n",
      "merged_df shape for 2024.12.24: (31451, 22)\n",
      "Processing folder: 2025.02.11\n",
      "Processing file: data/in/logger_data/2025.02.11/oil2.csv\n",
      "Processing file: data/in/logger_data/2025.02.11/oil3.csv\n",
      "Processing file: data/in/logger_data/2025.02.11/oil1.csv\n",
      "can_final_df shape for 2025.02.11: (9066, 18)\n",
      "oil_final_df shape for 2025.02.11: (7361, 5)\n",
      "merged_df shape for 2025.02.11: (7302, 22)\n",
      "Processing folder: 2025.01.11\n",
      "Processing file: data/in/logger_data/2025.01.11/oil2.csv\n",
      "Processing file: data/in/logger_data/2025.01.11/oil3.csv\n",
      "Processing file: data/in/logger_data/2025.01.11/oil6.csv\n",
      "Processing file: data/in/logger_data/2025.01.11/oil4.csv\n",
      "Processing file: data/in/logger_data/2025.01.11/oil1.csv\n",
      "Processing file: data/in/logger_data/2025.01.11/oil5.csv\n",
      "can_final_df shape for 2025.01.11: (7984, 18)\n",
      "oil_final_df shape for 2025.01.11: (9016, 5)\n",
      "merged_df shape for 2025.01.11: (7851, 22)\n",
      "Processing folder: 2025.01.21\n",
      "Processing file: data/in/logger_data/2025.01.21/oil2.csv\n",
      "Processing file: data/in/logger_data/2025.01.21/oil3.csv\n",
      "Processing file: data/in/logger_data/2025.01.21/oil1.csv\n",
      "can_final_df shape for 2025.01.21: (13600, 18)\n",
      "oil_final_df shape for 2025.01.21: (14051, 5)\n",
      "merged_df shape for 2025.01.21: (13545, 22)\n"
     ]
    },
    {
     "name": "stderr",
     "output_type": "stream",
     "text": [
      "/tmp/ipykernel_7037/653075486.py:49: DtypeWarning: Columns (2,4) have mixed types. Specify dtype option on import or set low_memory=False.\n",
      "  df = pd.read_csv(file, delimiter=';', decimal=',')\n"
     ]
    },
    {
     "name": "stdout",
     "output_type": "stream",
     "text": [
      "Processing folder: 2025.01.30\n",
      "Processing file: data/in/logger_data/2025.01.30/oil2.csv\n",
      "Processing file: data/in/logger_data/2025.01.30/oil3.csv\n",
      "Processing file: data/in/logger_data/2025.01.30/oil6.csv\n",
      "Processing file: data/in/logger_data/2025.01.30/oil4.csv\n",
      "Processing file: data/in/logger_data/2025.01.30/oil1.csv\n",
      "Processing file: data/in/logger_data/2025.01.30/oil5.csv\n",
      "can_final_df shape for 2025.01.30: (15685, 18)\n",
      "oil_final_df shape for 2025.01.30: (16055, 5)\n",
      "merged_df shape for 2025.01.30: (15500, 22)\n",
      "Processing folder: 2025.02.07\n",
      "Processing file: data/in/logger_data/2025.02.07/oil2.csv\n",
      "Processing file: data/in/logger_data/2025.02.07/oil3.csv\n",
      "Processing file: data/in/logger_data/2025.02.07/oil4.csv\n",
      "Processing file: data/in/logger_data/2025.02.07/oil1.csv\n"
     ]
    },
    {
     "name": "stderr",
     "output_type": "stream",
     "text": [
      "/tmp/ipykernel_7037/653075486.py:49: DtypeWarning: Columns (2,4) have mixed types. Specify dtype option on import or set low_memory=False.\n",
      "  df = pd.read_csv(file, delimiter=';', decimal=',')\n"
     ]
    },
    {
     "name": "stdout",
     "output_type": "stream",
     "text": [
      "Processing file: data/in/logger_data/2025.02.07/oil5.csv\n",
      "can_final_df shape for 2025.02.07: (25344, 18)\n",
      "oil_final_df shape for 2025.02.07: (25444, 5)\n",
      "merged_df shape for 2025.02.07: (24139, 22)\n",
      "Processing folder: 2024.12.18\n",
      "Processing file: data/in/logger_data/2024.12.18/oil2.csv\n",
      "Processing file: data/in/logger_data/2024.12.18/oil3.csv\n",
      "Processing file: data/in/logger_data/2024.12.18/oil6.csv\n",
      "Processing file: data/in/logger_data/2024.12.18/oil4.csv\n",
      "Processing file: data/in/logger_data/2024.12.18/oil1.csv\n",
      "Processing file: data/in/logger_data/2024.12.18/oil8.csv\n",
      "Processing file: data/in/logger_data/2024.12.18/oil7.csv\n",
      "Processing file: data/in/logger_data/2024.12.18/oil5.csv\n",
      "can_final_df shape for 2024.12.18: (38931, 18)\n",
      "oil_final_df shape for 2024.12.18: (39999, 5)\n",
      "merged_df shape for 2024.12.18: (38776, 22)\n",
      "Final merged dataframe shape: (474859, 22)\n"
     ]
    }
   ],
   "source": [
    "parent_folder = 'data/in/logger_data/'\n",
    "folder_names = [d for d in os.listdir(parent_folder) if os.path.isdir(os.path.join(parent_folder, d))]\n",
    "\n",
    "all_merged_dfs = []\n",
    "\n",
    "for folder_name in folder_names:\n",
    "    print(f\"Processing folder: {folder_name}\")\n",
    "    can_final_df = get_final_can_df(folder_name)\n",
    "    oil_final_df = get_final_oil_df(folder_name)\n",
    "    merged_df = pd.merge(can_final_df, oil_final_df, left_on='datetime', right_on='datetime', how='inner')\n",
    "    print(f\"can_final_df shape for {folder_name}: {can_final_df.shape}\")\n",
    "    print(f\"oil_final_df shape for {folder_name}: {oil_final_df.shape}\")\n",
    "    print(f\"merged_df shape for {folder_name}: {merged_df.shape}\")\n",
    "    # Save merged CSV inside the same folder\n",
    "    output_path = os.path.join(parent_folder, folder_name, f'merged_{folder_name}.csv')\n",
    "    merged_df.to_csv(output_path, index=False)\n",
    "    # Store for final concatenation\n",
    "    all_merged_dfs.append(merged_df)\n",
    "\n",
    "# Concatenate all merged dataframes into one final dataframe\n",
    "if all_merged_dfs:\n",
    "    final_merged_df = pd.concat(all_merged_dfs, ignore_index=True)\n",
    "    final_merged_df = final_merged_df.sort_values(by='datetime').reset_index(drop=True)\n",
    "    final_merged_df.to_csv(os.path.join(parent_folder, 'all_merged_data.csv'), \n",
    "                           index=False, float_format='%.2f')\n",
    "    print(f\"Final merged dataframe shape: {final_merged_df.shape}\")\n",
    "else:\n",
    "    print(\"No merged dataframes to concatenate.\")"
   ]
  },
  {
   "cell_type": "code",
   "execution_count": null,
   "id": "41b6c3fb",
   "metadata": {},
   "outputs": [
    {
     "name": "stdout",
     "output_type": "stream",
     "text": [
      "Is final_merged_df sorted by datetime? True\n"
     ]
    }
   ],
   "source": [
    "# Check if 'final_merged_df' is sorted by 'datetime'\n",
    "is_sorted = final_merged_df['datetime'].is_monotonic_increasing\n",
    "print(\"Is final_merged_df sorted by datetime?\", is_sorted)"
   ]
  },
  {
   "cell_type": "code",
   "execution_count": 84,
   "id": "3dc8ae87",
   "metadata": {},
   "outputs": [
    {
     "data": {
      "text/plain": [
       "(474859, 22)"
      ]
     },
     "execution_count": 84,
     "metadata": {},
     "output_type": "execute_result"
    }
   ],
   "source": [
    "final_merged_df.shape"
   ]
  },
  {
   "cell_type": "markdown",
   "id": "d4175e07",
   "metadata": {},
   "source": [
    "### Adding some features to dataset"
   ]
  },
  {
   "cell_type": "code",
   "execution_count": 2,
   "id": "52cedc70",
   "metadata": {},
   "outputs": [],
   "source": [
    "import pandas as pd"
   ]
  },
  {
   "cell_type": "code",
   "execution_count": 5,
   "id": "a024afbb",
   "metadata": {},
   "outputs": [
    {
     "name": "stdout",
     "output_type": "stream",
     "text": [
      "<class 'pandas.core.frame.DataFrame'>\n",
      "RangeIndex: 474859 entries, 0 to 474858\n",
      "Data columns (total 23 columns):\n",
      " #   Column       Non-Null Count   Dtype         \n",
      "---  ------       --------------   -----         \n",
      " 0   datetime     474859 non-null  datetime64[ns]\n",
      " 1   RPM          474858 non-null  float64       \n",
      " 2   THR          474858 non-null  float64       \n",
      " 3   Fdet         474858 non-null  float64       \n",
      " 4   Speed        474858 non-null  float64       \n",
      " 5   Twat         474858 non-null  float64       \n",
      " 6   INJ          474858 non-null  float64       \n",
      " 7   AIR          474858 non-null  float64       \n",
      " 8   GBC          474858 non-null  float64       \n",
      " 9   ADC_LAM      474858 non-null  float64       \n",
      " 10  UOZ          474858 non-null  float64       \n",
      " 11  Press        474857 non-null  float64       \n",
      " 12  COEFF        474857 non-null  float64       \n",
      " 13  Tair         474856 non-null  float64       \n",
      " 14  Fxx          474856 non-null  float64       \n",
      " 15  Ubat         474856 non-null  float64       \n",
      " 16  TPS          474856 non-null  float64       \n",
      " 17  Gear         474854 non-null  float64       \n",
      " 18  oil_press    474859 non-null  float64       \n",
      " 19  vp           474859 non-null  float64       \n",
      " 20  oil_temp     474859 non-null  float64       \n",
      " 21  vt           474859 non-null  float64       \n",
      " 22  trip_number  474859 non-null  int64         \n",
      "dtypes: datetime64[ns](1), float64(21), int64(1)\n",
      "memory usage: 83.3 MB\n"
     ]
    }
   ],
   "source": [
    "df = pd.read_csv('all_merged_data.csv', parse_dates=['datetime'])\n",
    "df.info()"
   ]
  },
  {
   "cell_type": "code",
   "execution_count": null,
   "id": "3ac52a9b",
   "metadata": {},
   "outputs": [
    {
     "name": "stdout",
     "output_type": "stream",
     "text": [
      "              datetime  trip_number\n",
      "0  2024-12-16 16:13:59            1\n",
      "1  2024-12-16 16:14:00            1\n",
      "2  2024-12-16 16:14:01            1\n",
      "3  2024-12-16 16:14:02            1\n",
      "4  2024-12-16 16:14:03            1\n",
      "5  2024-12-16 16:14:04            1\n",
      "6  2024-12-16 16:14:05            1\n",
      "7  2024-12-16 16:14:06            1\n",
      "8  2024-12-16 16:14:07            1\n",
      "9  2024-12-16 16:14:08            1\n",
      "10 2024-12-16 16:14:09            1\n",
      "11 2024-12-16 16:14:10            1\n",
      "12 2024-12-16 16:14:11            1\n",
      "13 2024-12-16 16:14:12            1\n",
      "14 2024-12-16 16:14:13            1\n",
      "15 2024-12-16 16:14:14            1\n",
      "16 2024-12-16 16:14:15            1\n",
      "17 2024-12-16 16:14:16            1\n",
      "18 2024-12-16 16:14:17            1\n",
      "19 2024-12-16 16:14:18            1\n"
     ]
    }
   ],
   "source": [
    "import numpy as np\n",
    "\n",
    "gap_threshold = pd.Timedelta(seconds=50)\n",
    "time_diff = df['datetime'].diff()\n",
    "df['trip_number'] = (time_diff > gap_threshold).cumsum() + 1\n",
    "print(df[['datetime', 'trip_number']].head(20))"
   ]
  },
  {
   "cell_type": "code",
   "execution_count": null,
   "id": "6217dc8d",
   "metadata": {},
   "outputs": [],
   "source": [
    "df.to_csv('all_merged_data.csv', index=False, float_format='%.2f')"
   ]
  }
 ],
 "metadata": {
  "kernelspec": {
   "display_name": "res_jup",
   "language": "python",
   "name": "res_jup"
  },
  "language_info": {
   "codemirror_mode": {
    "name": "ipython",
    "version": 3
   },
   "file_extension": ".py",
   "mimetype": "text/x-python",
   "name": "python",
   "nbconvert_exporter": "python",
   "pygments_lexer": "ipython3",
   "version": "3.10.16"
  }
 },
 "nbformat": 4,
 "nbformat_minor": 5
}
