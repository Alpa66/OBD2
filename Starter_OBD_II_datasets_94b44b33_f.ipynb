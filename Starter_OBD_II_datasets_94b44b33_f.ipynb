{
  "cells": [
    {
      "cell_type": "code",
      "execution_count": null,
      "metadata": {
        "colab": {
          "base_uri": "https://localhost:8080/"
        },
        "id": "pfBZ_5j7VTwQ",
        "outputId": "b9b2f397-7bd0-48c5-833d-e23b5da5c23b"
      },
      "outputs": [
        {
          "name": "stderr",
          "output_type": "stream",
          "text": [
            "/home/ahmad/anaconda3/envs/res_jup/lib/python3.10/site-packages/tqdm/auto.py:21: TqdmWarning: IProgress not found. Please update jupyter and ipywidgets. See https://ipywidgets.readthedocs.io/en/stable/user_install.html\n",
            "  from .autonotebook import tqdm as notebook_tqdm\n"
          ]
        },
        {
          "name": "stdout",
          "output_type": "stream",
          "text": [
            "Data source import complete.\n"
          ]
        }
      ],
      "source": [
        "# IMPORTANT: RUN THIS CELL IN ORDER TO IMPORT YOUR KAGGLE DATA SOURCES,\n",
        "# THEN FEEL FREE TO DELETE THIS CELL.\n",
        "# NOTE: THIS NOTEBOOK ENVIRONMENT DIFFERS FROM KAGGLE'S PYTHON\n",
        "# ENVIRONMENT SO THERE MAY BE MISSING LIBRARIES USED BY YOUR\n",
        "# NOTEBOOK.\n",
        "import kagglehub\n",
        "cephasax_obdii_ds3_path = kagglehub.dataset_download('cephasax/obdii-ds3')\n",
        "\n",
        "print('Data source import complete.')"
      ]
    },
    {
      "cell_type": "markdown",
      "metadata": {
        "id": "qsnUVUGOVTwS"
      },
      "source": [
        "## Introduction\n",
        "Greetings from the Kaggle bot! This is an automatically-generated kernel with starter code demonstrating how to read in the data and begin exploring. Click the blue \"Edit Notebook\" or \"Fork Notebook\" button at the top of this kernel to begin editing."
      ]
    },
    {
      "cell_type": "markdown",
      "metadata": {
        "id": "nhLZUBWTVTwT"
      },
      "source": [
        "## Exploratory Analysis\n",
        "To begin this exploratory analysis, first use `matplotlib` to import libraries and define functions for plotting the data. Depending on the data, not all plots will be made. (Hey, I'm just a kerneling bot, not a Kaggle Competitions Grandmaster!)"
      ]
    },
    {
      "cell_type": "code",
      "execution_count": 4,
      "metadata": {
        "_kg_hide-input": false,
        "id": "EuN7dGnXVTwU"
      },
      "outputs": [],
      "source": [
        "from mpl_toolkits.mplot3d import Axes3D\n",
        "from sklearn.preprocessing import StandardScaler\n",
        "import matplotlib.pyplot as plt # plotting\n",
        "import numpy as np # linear algebra\n",
        "import os # accessing directory structure\n",
        "import pandas as pd # data processing, CSV file I/O (e.g. pd.read_csv)"
      ]
    },
    {
      "cell_type": "markdown",
      "metadata": {
        "id": "kBNyj6oeVTwU"
      },
      "source": [
        "There are 3 csv files in the current version of the dataset:\n"
      ]
    },
    {
      "cell_type": "code",
      "execution_count": 7,
      "metadata": {
        "_kg_hide-input": false,
        "colab": {
          "base_uri": "https://localhost:8080/"
        },
        "id": "m5lhKfkTVTwV",
        "outputId": "001e4456-b5e3-4374-ea60-707539edc84e"
      },
      "outputs": [
        {
          "name": "stdout",
          "output_type": "stream",
          "text": [
            "./obd2_dataset_1/exp3_4drivers_1car_1route.xlsx\n",
            "./obd2_dataset_1/exp1_14drivers_14cars_dailyRoutes.xlsx\n",
            "./obd2_dataset_1/exp1_14drivers_14cars_dailyRoutes.csv\n",
            "./obd2_dataset_1/exp3_4drivers_1car_1route.csv\n",
            "./obd2_dataset_1/exp2_19drivers_1car_1route.xlsx\n",
            "./obd2_dataset_1/exp2_19drivers_1car_1route.csv\n"
          ]
        }
      ],
      "source": [
        "for dirname, _, filenames in os.walk('./obd2_dataset_1'):\n",
        "    for filename in filenames:\n",
        "        print(os.path.join(dirname, filename))\n"
      ]
    },
    {
      "cell_type": "markdown",
      "metadata": {
        "id": "lg8zqqQnVTwW"
      },
      "source": [
        "The next hidden code cells define functions for plotting data. Click on the \"Code\" button in the published kernel to reveal the hidden code."
      ]
    },
    {
      "cell_type": "code",
      "execution_count": 16,
      "metadata": {
        "_kg_hide-input": true,
        "collapsed": true,
        "id": "DskT35gOVTwW"
      },
      "outputs": [],
      "source": [
        "# Distribution graphs (histogram/bar graph) of column data\n",
        "def plotPerColumnDistribution(df, nGraphShown, nGraphPerRow):\n",
        "    nunique = df.nunique()\n",
        "    df = df[[col for col in df if nunique[col] > 1 and nunique[col] < 50]] # For displaying purposes, pick columns that have between 1 and 50 unique values\n",
        "    nRow, nCol = df.shape\n",
        "    columnNames = list(df)\n",
        "    nGraphRow = (nCol + nGraphPerRow - 1) // nGraphPerRow\n",
        "    plt.figure(num = None, figsize = (6 * nGraphPerRow, 8 * nGraphRow), dpi = 80, facecolor = 'w', edgecolor = 'k')\n",
        "    for i in range(min(nCol, nGraphShown)):\n",
        "        plt.subplot(nGraphRow, nGraphPerRow, i + 1)\n",
        "        columnDf = df.iloc[:, i]\n",
        "        if (not np.issubdtype(type(columnDf.iloc[0]), np.number)):\n",
        "            valueCounts = columnDf.value_counts()\n",
        "            valueCounts.plot.bar()\n",
        "        else:\n",
        "            columnDf.hist()\n",
        "        plt.ylabel('counts')\n",
        "        plt.xticks(rotation = 90)\n",
        "        plt.title(f'{columnNames[i]} (column {i})')\n",
        "    plt.tight_layout(pad = 1.0, w_pad = 1.0, h_pad = 1.0)\n",
        "    plt.show()\n"
      ]
    },
    {
      "cell_type": "code",
      "execution_count": null,
      "metadata": {
        "_kg_hide-input": true,
        "collapsed": true,
        "id": "L6SjwsY6VTwX"
      },
      "outputs": [],
      "source": [
        "# Correlation matrix\n",
        "def plotCorrelationMatrix(df, graphWidth):\n",
        "    filename = df.dataframeName\n",
        "    df = df.dropna() # drop columns with NaN\n",
        "    df = df[[col for col in df if df[col].nunique() > 1]] # keep columns where there are more than 1 unique values\n",
        "    if df.shape[1] < 2:\n",
        "        print(f'No correlation plots shown: The number of non-NaN or constant columns ({df.shape[1]}) is less than 2')\n",
        "        return\n",
        "    corr = df.corr()\n",
        "    plt.figure(num=None, figsize=(graphWidth, graphWidth), dpi=80, facecolor='w', edgecolor='k')\n",
        "    corrMat = plt.matshow(corr, fignum = 1)\n",
        "    plt.xticks(range(len(corr.columns)), corr.columns, rotation=90)\n",
        "    plt.yticks(range(len(corr.columns)), corr.columns)\n",
        "    plt.gca().xaxis.tick_bottom()\n",
        "    plt.colorbar(corrMat)\n",
        "    plt.title(f'Correlation Matrix for {filename}', fontsize=15)\n",
        "    plt.show()\n"
      ]
    },
    {
      "cell_type": "code",
      "execution_count": 22,
      "metadata": {
        "_kg_hide-input": true,
        "collapsed": true,
        "id": "ta_gumciVTwY"
      },
      "outputs": [],
      "source": [
        "# Scatter and density plots\n",
        "def plotScatterMatrix(df, plotSize, textSize):\n",
        "    df = df.select_dtypes(include =[np.number]) # keep only numerical columns\n",
        "    # Remove rows and columns that would lead to df being singular\n",
        "    df = df.dropna()\n",
        "    df = df[[col for col in df if df[col].nunique() > 1]] # keep columns where there are more than 1 unique values\n",
        "    columnNames = list(df)\n",
        "    if len(columnNames) > 10: # reduce the number of columns for matrix inversion of kernel density plots\n",
        "        columnNames = columnNames[:10]\n",
        "    df = df[columnNames]\n",
        "    ax = pd.plotting.scatter_matrix(df, alpha=0.75, figsize=[plotSize, plotSize], diagonal='kde')\n",
        "    corrs = df.corr().values\n",
        "    for i, j in zip(*plt.np.triu_indices_from(ax, k = 1)):\n",
        "        ax[i, j].annotate('Corr. coef = %.3f' % corrs[i, j], (0.8, 0.2), xycoords='axes fraction', ha='center', va='center', size=textSize)\n",
        "    plt.suptitle('Scatter and Density Plot')\n",
        "    plt.show()\n"
      ]
    },
    {
      "cell_type": "code",
      "execution_count": 19,
      "metadata": {},
      "outputs": [],
      "source": [
        "def plotCorrelationMatrix(df, graphWidth):\n",
        "    filename = df.dataframeName\n",
        "    df = df.dropna() # drop rows with NaN\n",
        "    df = df[[col for col in df if df[col].nunique() > 1]] # keep columns where there are more than 1 unique values\n",
        "    if df.shape[1] < 2:\n",
        "        print(f'No correlation plots shown: The number of non-NaN or constant columns ({df.shape[1]}) is less than 2')\n",
        "        return\n",
        "    corr = df.corr()\n",
        "    plt.figure(num=None, figsize=(graphWidth, graphWidth), dpi=80, facecolor='w', edgecolor='k')\n",
        "    corrMat = plt.matshow(corr, fignum = 1)\n",
        "    plt.xticks(range(len(corr.columns)), corr.columns, rotation=90)\n",
        "    plt.yticks(range(len(corr.columns)), corr.columns)\n",
        "    plt.gca().xaxis.tick_bottom()\n",
        "    plt.colorbar(corrMat)\n",
        "    plt.title(f'Correlation Matrix for {filename}', fontsize=15)\n",
        "    plt.show()"
      ]
    },
    {
      "cell_type": "markdown",
      "metadata": {
        "id": "jRRucsxqVTwY"
      },
      "source": [
        "Now you're ready to read in the data and use the plotting functions to visualize the data."
      ]
    },
    {
      "cell_type": "markdown",
      "metadata": {
        "id": "3Ehh0_UgVTwY"
      },
      "source": [
        "### Let's check 1st file: /kaggle/input/exp1_14drivers_14cars_dailyRoutes.csv"
      ]
    },
    {
      "cell_type": "code",
      "execution_count": 11,
      "metadata": {
        "_kg_hide-input": false,
        "colab": {
          "base_uri": "https://localhost:8080/"
        },
        "id": "bUXvo7-hVTwZ",
        "outputId": "4ad44d1f-5d60-4bb6-c794-61a8ceb425bb"
      },
      "outputs": [
        {
          "name": "stdout",
          "output_type": "stream",
          "text": [
            "There are 1000 rows and 33 columns\n"
          ]
        }
      ],
      "source": [
        "nRowsRead = 1000 # specify 'None' if want to read whole file\n",
        "# exp1_14drivers_14cars_dailyRoutes.csv may have more rows in reality, but we are only loading/previewing the first 1000 rows\n",
        "df1 = pd.read_csv('./obd2_dataset_1/exp1_14drivers_14cars_dailyRoutes.csv', delimiter=',', nrows = nRowsRead)\n",
        "df1.dataframeName = 'exp1_14drivers_14cars_dailyRoutes.csv'\n",
        "nRow, nCol = df1.shape\n",
        "print(f'There are {nRow} rows and {nCol} columns')"
      ]
    },
    {
      "cell_type": "code",
      "execution_count": 12,
      "metadata": {
        "colab": {
          "base_uri": "https://localhost:8080/",
          "height": 1000
        },
        "id": "TzbllDTYQEwF",
        "outputId": "7e7aa355-b66d-4e27-9e4d-b875952ac581"
      },
      "outputs": [
        {
          "data": {
            "text/plain": [
              "TIMESTAMP                         0\n",
              "MARK                              0\n",
              "MODEL                             0\n",
              "CAR_YEAR                          0\n",
              "ENGINE_POWER                      0\n",
              "AUTOMATIC                         0\n",
              "VEHICLE_ID                        0\n",
              "BAROMETRIC_PRESSURE(KPA)        181\n",
              "ENGINE_COOLANT_TEMP             181\n",
              "FUEL_LEVEL                      180\n",
              "ENGINE_LOAD                     259\n",
              "AMBIENT_AIR_TEMP                535\n",
              "ENGINE_RPM                      258\n",
              "INTAKE_MANIFOLD_PRESSURE        181\n",
              "MAF                             258\n",
              "LONG TERM FUEL TRIM BANK 2      822\n",
              "FUEL_TYPE                         0\n",
              "AIR_INTAKE_TEMP                 181\n",
              "FUEL_PRESSURE                  1000\n",
              "SPEED                             9\n",
              "SHORT TERM FUEL TRIM BANK 2     822\n",
              "SHORT TERM FUEL TRIM BANK 1     822\n",
              "ENGINE_RUNTIME                  247\n",
              "THROTTLE_POS                    179\n",
              "DTC_NUMBER                        1\n",
              "TROUBLE_CODES                  1000\n",
              "TIMING_ADVANCE                  179\n",
              "EQUIV_RATIO                     256\n",
              "MIN                               0\n",
              "HOURS                             0\n",
              "DAYS_OF_WEEK                      0\n",
              "MONTHS                            0\n",
              "YEAR                              0\n",
              "dtype: int64"
            ]
          },
          "execution_count": 12,
          "metadata": {},
          "output_type": "execute_result"
        }
      ],
      "source": [
        "df1.isnull().sum()"
      ]
    },
    {
      "cell_type": "code",
      "execution_count": 13,
      "metadata": {
        "colab": {
          "base_uri": "https://localhost:8080/"
        },
        "id": "eJE-KFC6PQZ_",
        "outputId": "8c54db52-0d7b-4a56-bc11-5d3e03be643b"
      },
      "outputs": [
        {
          "data": {
            "text/plain": [
              "Index(['TIMESTAMP', 'MARK', 'MODEL', 'CAR_YEAR', 'ENGINE_POWER', 'AUTOMATIC',\n",
              "       'VEHICLE_ID', 'BAROMETRIC_PRESSURE(KPA)', 'ENGINE_COOLANT_TEMP',\n",
              "       'FUEL_LEVEL', 'ENGINE_LOAD', 'ENGINE_RPM', 'INTAKE_MANIFOLD_PRESSURE',\n",
              "       'MAF', 'FUEL_TYPE', 'AIR_INTAKE_TEMP', 'SPEED', 'ENGINE_RUNTIME',\n",
              "       'THROTTLE_POS', 'DTC_NUMBER', 'TIMING_ADVANCE', 'EQUIV_RATIO', 'MIN',\n",
              "       'HOURS', 'DAYS_OF_WEEK', 'MONTHS', 'YEAR'],\n",
              "      dtype='object')"
            ]
          },
          "execution_count": 13,
          "metadata": {},
          "output_type": "execute_result"
        }
      ],
      "source": [
        "cols = df1.columns\n",
        "num_of_nan = df1.isnull().sum()\n",
        "nice_cols = num_of_nan[num_of_nan[cols] < 500]\n",
        "nice_cols = nice_cols.index\n",
        "nice_cols"
      ]
    },
    {
      "cell_type": "code",
      "execution_count": 14,
      "metadata": {
        "id": "wRY-6Iw8QjIR"
      },
      "outputs": [],
      "source": [
        "df_without_na = df1[nice_cols]"
      ]
    },
    {
      "cell_type": "markdown",
      "metadata": {
        "id": "1Fsu6njnVTwZ"
      },
      "source": [
        "Let's take a quick look at what the data looks like:"
      ]
    },
    {
      "cell_type": "code",
      "execution_count": 10,
      "metadata": {
        "_kg_hide-input": false,
        "colab": {
          "base_uri": "https://localhost:8080/",
          "height": 342
        },
        "id": "xqu6jpuhVTwa",
        "outputId": "8ba06265-be31-4a30-9507-e7188e517eed"
      },
      "outputs": [
        {
          "data": {
            "application/vnd.google.colaboratory.intrinsic+json": {
              "type": "dataframe",
              "variable_name": "df1"
            },
            "text/html": [
              "\n",
              "  <div id=\"df-447c49ea-ea7d-473c-9bd4-7c968121aca9\" class=\"colab-df-container\">\n",
              "    <div>\n",
              "<style scoped>\n",
              "    .dataframe tbody tr th:only-of-type {\n",
              "        vertical-align: middle;\n",
              "    }\n",
              "\n",
              "    .dataframe tbody tr th {\n",
              "        vertical-align: top;\n",
              "    }\n",
              "\n",
              "    .dataframe thead th {\n",
              "        text-align: right;\n",
              "    }\n",
              "</style>\n",
              "<table border=\"1\" class=\"dataframe\">\n",
              "  <thead>\n",
              "    <tr style=\"text-align: right;\">\n",
              "      <th></th>\n",
              "      <th>TIMESTAMP</th>\n",
              "      <th>MARK</th>\n",
              "      <th>MODEL</th>\n",
              "      <th>CAR_YEAR</th>\n",
              "      <th>ENGINE_POWER</th>\n",
              "      <th>AUTOMATIC</th>\n",
              "      <th>VEHICLE_ID</th>\n",
              "      <th>BAROMETRIC_PRESSURE(KPA)</th>\n",
              "      <th>ENGINE_COOLANT_TEMP</th>\n",
              "      <th>FUEL_LEVEL</th>\n",
              "      <th>...</th>\n",
              "      <th>THROTTLE_POS</th>\n",
              "      <th>DTC_NUMBER</th>\n",
              "      <th>TROUBLE_CODES</th>\n",
              "      <th>TIMING_ADVANCE</th>\n",
              "      <th>EQUIV_RATIO</th>\n",
              "      <th>MIN</th>\n",
              "      <th>HOURS</th>\n",
              "      <th>DAYS_OF_WEEK</th>\n",
              "      <th>MONTHS</th>\n",
              "      <th>YEAR</th>\n",
              "    </tr>\n",
              "  </thead>\n",
              "  <tbody>\n",
              "    <tr>\n",
              "      <th>0</th>\n",
              "      <td>1502902504267</td>\n",
              "      <td>chevrolet</td>\n",
              "      <td>agile</td>\n",
              "      <td>2011</td>\n",
              "      <td>1,4</td>\n",
              "      <td>n</td>\n",
              "      <td>car1</td>\n",
              "      <td>100.0</td>\n",
              "      <td>80.0</td>\n",
              "      <td>48,60%</td>\n",
              "      <td>...</td>\n",
              "      <td>25%</td>\n",
              "      <td>MIL is OFF0 codes</td>\n",
              "      <td>NaN</td>\n",
              "      <td>56,9%</td>\n",
              "      <td>1,0%</td>\n",
              "      <td>13</td>\n",
              "      <td>16</td>\n",
              "      <td>2</td>\n",
              "      <td>8</td>\n",
              "      <td>2017</td>\n",
              "    </tr>\n",
              "    <tr>\n",
              "      <th>1</th>\n",
              "      <td>1502902512283</td>\n",
              "      <td>chevrolet</td>\n",
              "      <td>agile</td>\n",
              "      <td>2011</td>\n",
              "      <td>1,4</td>\n",
              "      <td>n</td>\n",
              "      <td>car1</td>\n",
              "      <td>100.0</td>\n",
              "      <td>80.0</td>\n",
              "      <td>48,60%</td>\n",
              "      <td>...</td>\n",
              "      <td>25%</td>\n",
              "      <td>MIL is OFF0 codes</td>\n",
              "      <td>NaN</td>\n",
              "      <td>56,5%</td>\n",
              "      <td>1,0%</td>\n",
              "      <td>13</td>\n",
              "      <td>16</td>\n",
              "      <td>2</td>\n",
              "      <td>8</td>\n",
              "      <td>2017</td>\n",
              "    </tr>\n",
              "    <tr>\n",
              "      <th>2</th>\n",
              "      <td>1502902520291</td>\n",
              "      <td>chevrolet</td>\n",
              "      <td>agile</td>\n",
              "      <td>2011</td>\n",
              "      <td>1,4</td>\n",
              "      <td>n</td>\n",
              "      <td>car1</td>\n",
              "      <td>100.0</td>\n",
              "      <td>80.0</td>\n",
              "      <td>48,60%</td>\n",
              "      <td>...</td>\n",
              "      <td>25%</td>\n",
              "      <td>MIL is OFF0 codes</td>\n",
              "      <td>NaN</td>\n",
              "      <td>57,3%</td>\n",
              "      <td>1,0%</td>\n",
              "      <td>13</td>\n",
              "      <td>16</td>\n",
              "      <td>2</td>\n",
              "      <td>8</td>\n",
              "      <td>2017</td>\n",
              "    </tr>\n",
              "    <tr>\n",
              "      <th>3</th>\n",
              "      <td>1502902528300</td>\n",
              "      <td>chevrolet</td>\n",
              "      <td>agile</td>\n",
              "      <td>2011</td>\n",
              "      <td>1,4</td>\n",
              "      <td>n</td>\n",
              "      <td>car1</td>\n",
              "      <td>100.0</td>\n",
              "      <td>80.0</td>\n",
              "      <td>48,60%</td>\n",
              "      <td>...</td>\n",
              "      <td>25%</td>\n",
              "      <td>MIL is OFF0 codes</td>\n",
              "      <td>NaN</td>\n",
              "      <td>56,5%</td>\n",
              "      <td>1,0%</td>\n",
              "      <td>13</td>\n",
              "      <td>16</td>\n",
              "      <td>2</td>\n",
              "      <td>8</td>\n",
              "      <td>2017</td>\n",
              "    </tr>\n",
              "    <tr>\n",
              "      <th>4</th>\n",
              "      <td>1502902536320</td>\n",
              "      <td>chevrolet</td>\n",
              "      <td>agile</td>\n",
              "      <td>2011</td>\n",
              "      <td>1,4</td>\n",
              "      <td>n</td>\n",
              "      <td>car1</td>\n",
              "      <td>100.0</td>\n",
              "      <td>80.0</td>\n",
              "      <td>48,60%</td>\n",
              "      <td>...</td>\n",
              "      <td>25%</td>\n",
              "      <td>MIL is OFF0 codes</td>\n",
              "      <td>NaN</td>\n",
              "      <td>56,9%</td>\n",
              "      <td>1,0%</td>\n",
              "      <td>13</td>\n",
              "      <td>16</td>\n",
              "      <td>2</td>\n",
              "      <td>8</td>\n",
              "      <td>2017</td>\n",
              "    </tr>\n",
              "  </tbody>\n",
              "</table>\n",
              "<p>5 rows × 33 columns</p>\n",
              "</div>\n",
              "    <div class=\"colab-df-buttons\">\n",
              "\n",
              "  <div class=\"colab-df-container\">\n",
              "    <button class=\"colab-df-convert\" onclick=\"convertToInteractive('df-447c49ea-ea7d-473c-9bd4-7c968121aca9')\"\n",
              "            title=\"Convert this dataframe to an interactive table.\"\n",
              "            style=\"display:none;\">\n",
              "\n",
              "  <svg xmlns=\"http://www.w3.org/2000/svg\" height=\"24px\" viewBox=\"0 -960 960 960\">\n",
              "    <path d=\"M120-120v-720h720v720H120Zm60-500h600v-160H180v160Zm220 220h160v-160H400v160Zm0 220h160v-160H400v160ZM180-400h160v-160H180v160Zm440 0h160v-160H620v160ZM180-180h160v-160H180v160Zm440 0h160v-160H620v160Z\"/>\n",
              "  </svg>\n",
              "    </button>\n",
              "\n",
              "  <style>\n",
              "    .colab-df-container {\n",
              "      display:flex;\n",
              "      gap: 12px;\n",
              "    }\n",
              "\n",
              "    .colab-df-convert {\n",
              "      background-color: #E8F0FE;\n",
              "      border: none;\n",
              "      border-radius: 50%;\n",
              "      cursor: pointer;\n",
              "      display: none;\n",
              "      fill: #1967D2;\n",
              "      height: 32px;\n",
              "      padding: 0 0 0 0;\n",
              "      width: 32px;\n",
              "    }\n",
              "\n",
              "    .colab-df-convert:hover {\n",
              "      background-color: #E2EBFA;\n",
              "      box-shadow: 0px 1px 2px rgba(60, 64, 67, 0.3), 0px 1px 3px 1px rgba(60, 64, 67, 0.15);\n",
              "      fill: #174EA6;\n",
              "    }\n",
              "\n",
              "    .colab-df-buttons div {\n",
              "      margin-bottom: 4px;\n",
              "    }\n",
              "\n",
              "    [theme=dark] .colab-df-convert {\n",
              "      background-color: #3B4455;\n",
              "      fill: #D2E3FC;\n",
              "    }\n",
              "\n",
              "    [theme=dark] .colab-df-convert:hover {\n",
              "      background-color: #434B5C;\n",
              "      box-shadow: 0px 1px 3px 1px rgba(0, 0, 0, 0.15);\n",
              "      filter: drop-shadow(0px 1px 2px rgba(0, 0, 0, 0.3));\n",
              "      fill: #FFFFFF;\n",
              "    }\n",
              "  </style>\n",
              "\n",
              "    <script>\n",
              "      const buttonEl =\n",
              "        document.querySelector('#df-447c49ea-ea7d-473c-9bd4-7c968121aca9 button.colab-df-convert');\n",
              "      buttonEl.style.display =\n",
              "        google.colab.kernel.accessAllowed ? 'block' : 'none';\n",
              "\n",
              "      async function convertToInteractive(key) {\n",
              "        const element = document.querySelector('#df-447c49ea-ea7d-473c-9bd4-7c968121aca9');\n",
              "        const dataTable =\n",
              "          await google.colab.kernel.invokeFunction('convertToInteractive',\n",
              "                                                    [key], {});\n",
              "        if (!dataTable) return;\n",
              "\n",
              "        const docLinkHtml = 'Like what you see? Visit the ' +\n",
              "          '<a target=\"_blank\" href=https://colab.research.google.com/notebooks/data_table.ipynb>data table notebook</a>'\n",
              "          + ' to learn more about interactive tables.';\n",
              "        element.innerHTML = '';\n",
              "        dataTable['output_type'] = 'display_data';\n",
              "        await google.colab.output.renderOutput(dataTable, element);\n",
              "        const docLink = document.createElement('div');\n",
              "        docLink.innerHTML = docLinkHtml;\n",
              "        element.appendChild(docLink);\n",
              "      }\n",
              "    </script>\n",
              "  </div>\n",
              "\n",
              "\n",
              "    <div id=\"df-50a030bb-faf5-4f28-bbd9-f930b2cfcc87\">\n",
              "      <button class=\"colab-df-quickchart\" onclick=\"quickchart('df-50a030bb-faf5-4f28-bbd9-f930b2cfcc87')\"\n",
              "                title=\"Suggest charts\"\n",
              "                style=\"display:none;\">\n",
              "\n",
              "<svg xmlns=\"http://www.w3.org/2000/svg\" height=\"24px\"viewBox=\"0 0 24 24\"\n",
              "     width=\"24px\">\n",
              "    <g>\n",
              "        <path d=\"M19 3H5c-1.1 0-2 .9-2 2v14c0 1.1.9 2 2 2h14c1.1 0 2-.9 2-2V5c0-1.1-.9-2-2-2zM9 17H7v-7h2v7zm4 0h-2V7h2v10zm4 0h-2v-4h2v4z\"/>\n",
              "    </g>\n",
              "</svg>\n",
              "      </button>\n",
              "\n",
              "<style>\n",
              "  .colab-df-quickchart {\n",
              "      --bg-color: #E8F0FE;\n",
              "      --fill-color: #1967D2;\n",
              "      --hover-bg-color: #E2EBFA;\n",
              "      --hover-fill-color: #174EA6;\n",
              "      --disabled-fill-color: #AAA;\n",
              "      --disabled-bg-color: #DDD;\n",
              "  }\n",
              "\n",
              "  [theme=dark] .colab-df-quickchart {\n",
              "      --bg-color: #3B4455;\n",
              "      --fill-color: #D2E3FC;\n",
              "      --hover-bg-color: #434B5C;\n",
              "      --hover-fill-color: #FFFFFF;\n",
              "      --disabled-bg-color: #3B4455;\n",
              "      --disabled-fill-color: #666;\n",
              "  }\n",
              "\n",
              "  .colab-df-quickchart {\n",
              "    background-color: var(--bg-color);\n",
              "    border: none;\n",
              "    border-radius: 50%;\n",
              "    cursor: pointer;\n",
              "    display: none;\n",
              "    fill: var(--fill-color);\n",
              "    height: 32px;\n",
              "    padding: 0;\n",
              "    width: 32px;\n",
              "  }\n",
              "\n",
              "  .colab-df-quickchart:hover {\n",
              "    background-color: var(--hover-bg-color);\n",
              "    box-shadow: 0 1px 2px rgba(60, 64, 67, 0.3), 0 1px 3px 1px rgba(60, 64, 67, 0.15);\n",
              "    fill: var(--button-hover-fill-color);\n",
              "  }\n",
              "\n",
              "  .colab-df-quickchart-complete:disabled,\n",
              "  .colab-df-quickchart-complete:disabled:hover {\n",
              "    background-color: var(--disabled-bg-color);\n",
              "    fill: var(--disabled-fill-color);\n",
              "    box-shadow: none;\n",
              "  }\n",
              "\n",
              "  .colab-df-spinner {\n",
              "    border: 2px solid var(--fill-color);\n",
              "    border-color: transparent;\n",
              "    border-bottom-color: var(--fill-color);\n",
              "    animation:\n",
              "      spin 1s steps(1) infinite;\n",
              "  }\n",
              "\n",
              "  @keyframes spin {\n",
              "    0% {\n",
              "      border-color: transparent;\n",
              "      border-bottom-color: var(--fill-color);\n",
              "      border-left-color: var(--fill-color);\n",
              "    }\n",
              "    20% {\n",
              "      border-color: transparent;\n",
              "      border-left-color: var(--fill-color);\n",
              "      border-top-color: var(--fill-color);\n",
              "    }\n",
              "    30% {\n",
              "      border-color: transparent;\n",
              "      border-left-color: var(--fill-color);\n",
              "      border-top-color: var(--fill-color);\n",
              "      border-right-color: var(--fill-color);\n",
              "    }\n",
              "    40% {\n",
              "      border-color: transparent;\n",
              "      border-right-color: var(--fill-color);\n",
              "      border-top-color: var(--fill-color);\n",
              "    }\n",
              "    60% {\n",
              "      border-color: transparent;\n",
              "      border-right-color: var(--fill-color);\n",
              "    }\n",
              "    80% {\n",
              "      border-color: transparent;\n",
              "      border-right-color: var(--fill-color);\n",
              "      border-bottom-color: var(--fill-color);\n",
              "    }\n",
              "    90% {\n",
              "      border-color: transparent;\n",
              "      border-bottom-color: var(--fill-color);\n",
              "    }\n",
              "  }\n",
              "</style>\n",
              "\n",
              "      <script>\n",
              "        async function quickchart(key) {\n",
              "          const quickchartButtonEl =\n",
              "            document.querySelector('#' + key + ' button');\n",
              "          quickchartButtonEl.disabled = true;  // To prevent multiple clicks.\n",
              "          quickchartButtonEl.classList.add('colab-df-spinner');\n",
              "          try {\n",
              "            const charts = await google.colab.kernel.invokeFunction(\n",
              "                'suggestCharts', [key], {});\n",
              "          } catch (error) {\n",
              "            console.error('Error during call to suggestCharts:', error);\n",
              "          }\n",
              "          quickchartButtonEl.classList.remove('colab-df-spinner');\n",
              "          quickchartButtonEl.classList.add('colab-df-quickchart-complete');\n",
              "        }\n",
              "        (() => {\n",
              "          let quickchartButtonEl =\n",
              "            document.querySelector('#df-50a030bb-faf5-4f28-bbd9-f930b2cfcc87 button');\n",
              "          quickchartButtonEl.style.display =\n",
              "            google.colab.kernel.accessAllowed ? 'block' : 'none';\n",
              "        })();\n",
              "      </script>\n",
              "    </div>\n",
              "    </div>\n",
              "  </div>\n"
            ],
            "text/plain": [
              "       TIMESTAMP       MARK  MODEL  CAR_YEAR ENGINE_POWER AUTOMATIC  \\\n",
              "0  1502902504267  chevrolet  agile      2011          1,4         n   \n",
              "1  1502902512283  chevrolet  agile      2011          1,4         n   \n",
              "2  1502902520291  chevrolet  agile      2011          1,4         n   \n",
              "3  1502902528300  chevrolet  agile      2011          1,4         n   \n",
              "4  1502902536320  chevrolet  agile      2011          1,4         n   \n",
              "\n",
              "  VEHICLE_ID  BAROMETRIC_PRESSURE(KPA)  ENGINE_COOLANT_TEMP FUEL_LEVEL  ...  \\\n",
              "0       car1                     100.0                 80.0     48,60%  ...   \n",
              "1       car1                     100.0                 80.0     48,60%  ...   \n",
              "2       car1                     100.0                 80.0     48,60%  ...   \n",
              "3       car1                     100.0                 80.0     48,60%  ...   \n",
              "4       car1                     100.0                 80.0     48,60%  ...   \n",
              "\n",
              "  THROTTLE_POS         DTC_NUMBER  TROUBLE_CODES  TIMING_ADVANCE EQUIV_RATIO  \\\n",
              "0          25%  MIL is OFF0 codes            NaN           56,9%        1,0%   \n",
              "1          25%  MIL is OFF0 codes            NaN           56,5%        1,0%   \n",
              "2          25%  MIL is OFF0 codes            NaN           57,3%        1,0%   \n",
              "3          25%  MIL is OFF0 codes            NaN           56,5%        1,0%   \n",
              "4          25%  MIL is OFF0 codes            NaN           56,9%        1,0%   \n",
              "\n",
              "  MIN HOURS  DAYS_OF_WEEK  MONTHS  YEAR  \n",
              "0  13    16             2       8  2017  \n",
              "1  13    16             2       8  2017  \n",
              "2  13    16             2       8  2017  \n",
              "3  13    16             2       8  2017  \n",
              "4  13    16             2       8  2017  \n",
              "\n",
              "[5 rows x 33 columns]"
            ]
          },
          "execution_count": 10,
          "metadata": {},
          "output_type": "execute_result"
        }
      ],
      "source": [
        "df1.head(5)"
      ]
    },
    {
      "cell_type": "markdown",
      "metadata": {
        "id": "o0WfklRMVTwa"
      },
      "source": [
        "Distribution graphs (histogram/bar graph) of sampled columns:"
      ]
    },
    {
      "cell_type": "code",
      "execution_count": 17,
      "metadata": {
        "_kg_hide-input": false,
        "colab": {
          "base_uri": "https://localhost:8080/",
          "height": 321
        },
        "id": "BRHmi_LCVTwa",
        "outputId": "6cf753a1-1a71-4c92-b68c-e29433f42071"
      },
      "outputs": [
        {
          "data": {
            "image/png": "[encoded data removed]",
            "text/plain": [
              "<Figure size 2400x1280 with 7 Axes>"
            ]
          },
          "metadata": {},
          "output_type": "display_data"
        }
      ],
      "source": [
        "plotPerColumnDistribution(df_without_na, 10, 5)"
      ]
    },
    {
      "cell_type": "markdown",
      "metadata": {
        "id": "j3xR8xZ1VTwb"
      },
      "source": [
        "Correlation matrix:"
      ]
    },
    {
      "cell_type": "code",
      "execution_count": 19,
      "metadata": {
        "id": "YXa_69WKMX-z"
      },
      "outputs": [],
      "source": [
        "df = df1.dropna()"
      ]
    },
    {
      "cell_type": "code",
      "execution_count": 21,
      "metadata": {
        "colab": {
          "base_uri": "https://localhost:8080/"
        },
        "id": "mZ1l7G_GMfW9",
        "outputId": "c68c370c-2188-494d-991f-a91bd132f4e1"
      },
      "outputs": [
        {
          "data": {
            "text/plain": [
              "(1000, 33)"
            ]
          },
          "execution_count": 21,
          "metadata": {},
          "output_type": "execute_result"
        }
      ],
      "source": [
        "df1.shape"
      ]
    },
    {
      "cell_type": "code",
      "execution_count": 23,
      "metadata": {
        "_kg_hide-input": false,
        "colab": {
          "base_uri": "https://localhost:8080/",
          "height": 297
        },
        "id": "zsE04eYgVTwb",
        "outputId": "44c272fd-1db3-49b9-e4b8-0992f082b8bf"
      },
      "outputs": [
        {
          "ename": "AttributeError",
          "evalue": "'DataFrame' object has no attribute 'dataframeName'",
          "output_type": "error",
          "traceback": [
            "\u001b[0;31m---------------------------------------------------------------------------\u001b[0m",
            "\u001b[0;31mAttributeError\u001b[0m                            Traceback (most recent call last)",
            "\u001b[0;32m/tmp/ipykernel_151714/1154128629.py\u001b[0m in \u001b[0;36m?\u001b[0;34m()\u001b[0m\n\u001b[0;32m----> 1\u001b[0;31m \u001b[0mplotCorrelationMatrix\u001b[0m\u001b[0;34m(\u001b[0m\u001b[0mdf_without_na\u001b[0m\u001b[0;34m,\u001b[0m \u001b[0;36m8\u001b[0m\u001b[0;34m)\u001b[0m\u001b[0;34m\u001b[0m\u001b[0;34m\u001b[0m\u001b[0m\n\u001b[0m",
            "\u001b[0;32m/tmp/ipykernel_151714/2341821162.py\u001b[0m in \u001b[0;36m?\u001b[0;34m(df, graphWidth)\u001b[0m\n\u001b[1;32m      1\u001b[0m \u001b[0;32mdef\u001b[0m \u001b[0mplotCorrelationMatrix\u001b[0m\u001b[0;34m(\u001b[0m\u001b[0mdf\u001b[0m\u001b[0;34m,\u001b[0m \u001b[0mgraphWidth\u001b[0m\u001b[0;34m)\u001b[0m\u001b[0;34m:\u001b[0m\u001b[0;34m\u001b[0m\u001b[0;34m\u001b[0m\u001b[0m\n\u001b[0;32m----> 2\u001b[0;31m     \u001b[0mfilename\u001b[0m \u001b[0;34m=\u001b[0m \u001b[0mdf\u001b[0m\u001b[0;34m.\u001b[0m\u001b[0mdataframeName\u001b[0m\u001b[0;34m\u001b[0m\u001b[0;34m\u001b[0m\u001b[0m\n\u001b[0m\u001b[1;32m      3\u001b[0m     \u001b[0mdf\u001b[0m \u001b[0;34m=\u001b[0m \u001b[0mdf\u001b[0m\u001b[0;34m.\u001b[0m\u001b[0mdropna\u001b[0m\u001b[0;34m(\u001b[0m\u001b[0;34m)\u001b[0m \u001b[0;31m# drop rows with NaN\u001b[0m\u001b[0;34m\u001b[0m\u001b[0;34m\u001b[0m\u001b[0m\n\u001b[1;32m      4\u001b[0m     \u001b[0mdf\u001b[0m \u001b[0;34m=\u001b[0m \u001b[0mdf\u001b[0m\u001b[0;34m[\u001b[0m\u001b[0;34m[\u001b[0m\u001b[0mcol\u001b[0m \u001b[0;32mfor\u001b[0m \u001b[0mcol\u001b[0m \u001b[0;32min\u001b[0m \u001b[0mdf\u001b[0m \u001b[0;32mif\u001b[0m \u001b[0mdf\u001b[0m\u001b[0;34m[\u001b[0m\u001b[0mcol\u001b[0m\u001b[0;34m]\u001b[0m\u001b[0;34m.\u001b[0m\u001b[0mnunique\u001b[0m\u001b[0;34m(\u001b[0m\u001b[0;34m)\u001b[0m \u001b[0;34m>\u001b[0m \u001b[0;36m1\u001b[0m\u001b[0;34m]\u001b[0m\u001b[0;34m]\u001b[0m \u001b[0;31m# keep columns where there are more than 1 unique values\u001b[0m\u001b[0;34m\u001b[0m\u001b[0;34m\u001b[0m\u001b[0m\n\u001b[1;32m      5\u001b[0m     \u001b[0;32mif\u001b[0m \u001b[0mdf\u001b[0m\u001b[0;34m.\u001b[0m\u001b[0mshape\u001b[0m\u001b[0;34m[\u001b[0m\u001b[0;36m1\u001b[0m\u001b[0;34m]\u001b[0m \u001b[0;34m<\u001b[0m \u001b[0;36m2\u001b[0m\u001b[0;34m:\u001b[0m\u001b[0;34m\u001b[0m\u001b[0;34m\u001b[0m\u001b[0m\n",
            "\u001b[0;32m~/anaconda3/envs/res_jup/lib/python3.10/site-packages/pandas/core/generic.py\u001b[0m in \u001b[0;36m?\u001b[0;34m(self, name)\u001b[0m\n\u001b[1;32m   6295\u001b[0m             \u001b[0;32mand\u001b[0m \u001b[0mname\u001b[0m \u001b[0;32mnot\u001b[0m \u001b[0;32min\u001b[0m \u001b[0mself\u001b[0m\u001b[0;34m.\u001b[0m\u001b[0m_accessors\u001b[0m\u001b[0;34m\u001b[0m\u001b[0;34m\u001b[0m\u001b[0m\n\u001b[1;32m   6296\u001b[0m             \u001b[0;32mand\u001b[0m \u001b[0mself\u001b[0m\u001b[0;34m.\u001b[0m\u001b[0m_info_axis\u001b[0m\u001b[0;34m.\u001b[0m\u001b[0m_can_hold_identifiers_and_holds_name\u001b[0m\u001b[0;34m(\u001b[0m\u001b[0mname\u001b[0m\u001b[0;34m)\u001b[0m\u001b[0;34m\u001b[0m\u001b[0;34m\u001b[0m\u001b[0m\n\u001b[1;32m   6297\u001b[0m         ):\n\u001b[1;32m   6298\u001b[0m             \u001b[0;32mreturn\u001b[0m \u001b[0mself\u001b[0m\u001b[0;34m[\u001b[0m\u001b[0mname\u001b[0m\u001b[0;34m]\u001b[0m\u001b[0;34m\u001b[0m\u001b[0;34m\u001b[0m\u001b[0m\n\u001b[0;32m-> 6299\u001b[0;31m         \u001b[0;32mreturn\u001b[0m \u001b[0mobject\u001b[0m\u001b[0;34m.\u001b[0m\u001b[0m__getattribute__\u001b[0m\u001b[0;34m(\u001b[0m\u001b[0mself\u001b[0m\u001b[0;34m,\u001b[0m \u001b[0mname\u001b[0m\u001b[0;34m)\u001b[0m\u001b[0;34m\u001b[0m\u001b[0;34m\u001b[0m\u001b[0m\n\u001b[0m",
            "\u001b[0;31mAttributeError\u001b[0m: 'DataFrame' object has no attribute 'dataframeName'"
          ]
        }
      ],
      "source": [
        "plotCorrelationMatrix(df_without_na, 8)"
      ]
    },
    {
      "cell_type": "markdown",
      "metadata": {
        "id": "LwMtePMKVTwb"
      },
      "source": [
        "Scatter and density plots:"
      ]
    },
    {
      "cell_type": "code",
      "execution_count": 13,
      "metadata": {
        "_kg_hide-input": false,
        "colab": {
          "base_uri": "https://localhost:8080/",
          "height": 280
        },
        "id": "rEjEhTMSVTwb",
        "outputId": "be2514d7-fa69-4cc7-f2e9-f0487052ea3a"
      },
      "outputs": [
        {
          "ename": "TypeError",
          "evalue": "DataFrame.dropna() takes 1 positional argument but 2 were given",
          "output_type": "error",
          "traceback": [
            "\u001b[0;31m---------------------------------------------------------------------------\u001b[0m",
            "\u001b[0;31mTypeError\u001b[0m                                 Traceback (most recent call last)",
            "\u001b[0;32m<ipython-input-13-a5e842778a31>\u001b[0m in \u001b[0;36m<cell line: 0>\u001b[0;34m()\u001b[0m\n\u001b[0;32m----> 1\u001b[0;31m \u001b[0mplotScatterMatrix\u001b[0m\u001b[0;34m(\u001b[0m\u001b[0mdf1\u001b[0m\u001b[0;34m,\u001b[0m \u001b[0;36m20\u001b[0m\u001b[0;34m,\u001b[0m \u001b[0;36m10\u001b[0m\u001b[0;34m)\u001b[0m\u001b[0;34m\u001b[0m\u001b[0;34m\u001b[0m\u001b[0m\n\u001b[0m",
            "\u001b[0;32m<ipython-input-6-45d7bdcfca59>\u001b[0m in \u001b[0;36mplotScatterMatrix\u001b[0;34m(df, plotSize, textSize)\u001b[0m\n\u001b[1;32m      3\u001b[0m     \u001b[0mdf\u001b[0m \u001b[0;34m=\u001b[0m \u001b[0mdf\u001b[0m\u001b[0;34m.\u001b[0m\u001b[0mselect_dtypes\u001b[0m\u001b[0;34m(\u001b[0m\u001b[0minclude\u001b[0m \u001b[0;34m=\u001b[0m\u001b[0;34m[\u001b[0m\u001b[0mnp\u001b[0m\u001b[0;34m.\u001b[0m\u001b[0mnumber\u001b[0m\u001b[0;34m]\u001b[0m\u001b[0;34m)\u001b[0m \u001b[0;31m# keep only numerical columns\u001b[0m\u001b[0;34m\u001b[0m\u001b[0;34m\u001b[0m\u001b[0m\n\u001b[1;32m      4\u001b[0m     \u001b[0;31m# Remove rows and columns that would lead to df being singular\u001b[0m\u001b[0;34m\u001b[0m\u001b[0;34m\u001b[0m\u001b[0m\n\u001b[0;32m----> 5\u001b[0;31m     \u001b[0mdf\u001b[0m \u001b[0;34m=\u001b[0m \u001b[0mdf\u001b[0m\u001b[0;34m.\u001b[0m\u001b[0mdropna\u001b[0m\u001b[0;34m(\u001b[0m\u001b[0;34m'columns'\u001b[0m\u001b[0;34m)\u001b[0m\u001b[0;34m\u001b[0m\u001b[0;34m\u001b[0m\u001b[0m\n\u001b[0m\u001b[1;32m      6\u001b[0m     \u001b[0mdf\u001b[0m \u001b[0;34m=\u001b[0m \u001b[0mdf\u001b[0m\u001b[0;34m[\u001b[0m\u001b[0;34m[\u001b[0m\u001b[0mcol\u001b[0m \u001b[0;32mfor\u001b[0m \u001b[0mcol\u001b[0m \u001b[0;32min\u001b[0m \u001b[0mdf\u001b[0m \u001b[0;32mif\u001b[0m \u001b[0mdf\u001b[0m\u001b[0;34m[\u001b[0m\u001b[0mcol\u001b[0m\u001b[0;34m]\u001b[0m\u001b[0;34m.\u001b[0m\u001b[0mnunique\u001b[0m\u001b[0;34m(\u001b[0m\u001b[0;34m)\u001b[0m \u001b[0;34m>\u001b[0m \u001b[0;36m1\u001b[0m\u001b[0;34m]\u001b[0m\u001b[0;34m]\u001b[0m \u001b[0;31m# keep columns where there are more than 1 unique values\u001b[0m\u001b[0;34m\u001b[0m\u001b[0;34m\u001b[0m\u001b[0m\n\u001b[1;32m      7\u001b[0m     \u001b[0mcolumnNames\u001b[0m \u001b[0;34m=\u001b[0m \u001b[0mlist\u001b[0m\u001b[0;34m(\u001b[0m\u001b[0mdf\u001b[0m\u001b[0;34m)\u001b[0m\u001b[0;34m\u001b[0m\u001b[0;34m\u001b[0m\u001b[0m\n",
            "\u001b[0;31mTypeError\u001b[0m: DataFrame.dropna() takes 1 positional argument but 2 were given"
          ]
        }
      ],
      "source": [
        "plotScatterMatrix(df1, 20, 10)"
      ]
    },
    {
      "cell_type": "markdown",
      "metadata": {
        "id": "Zbv6KS51VTwc"
      },
      "source": [
        "### Let's check 2nd file: /kaggle/input/exp2_19drivers_1car_1route.csv"
      ]
    },
    {
      "cell_type": "code",
      "execution_count": null,
      "metadata": {
        "_kg_hide-input": false,
        "id": "s6F-r_icVTwc"
      },
      "outputs": [],
      "source": [
        "nRowsRead = 1000 # specify 'None' if want to read whole file\n",
        "# exp2_19drivers_1car_1route.csv may have more rows in reality, but we are only loading/previewing the first 1000 rows\n",
        "df2 = pd.read_csv('/kaggle/input/exp2_19drivers_1car_1route.csv', delimiter=',', nrows = nRowsRead)\n",
        "df2.dataframeName = 'exp2_19drivers_1car_1route.csv'\n",
        "nRow, nCol = df2.shape\n",
        "print(f'There are {nRow} rows and {nCol} columns')"
      ]
    },
    {
      "cell_type": "markdown",
      "metadata": {
        "id": "MFtc870qVTwc"
      },
      "source": [
        "Let's take a quick look at what the data looks like:"
      ]
    },
    {
      "cell_type": "code",
      "execution_count": null,
      "metadata": {
        "_kg_hide-input": false,
        "id": "eaMizNp2VTwc"
      },
      "outputs": [],
      "source": [
        "df2.head(5)"
      ]
    },
    {
      "cell_type": "markdown",
      "metadata": {
        "id": "3L_QeX_xVTwc"
      },
      "source": [
        "Distribution graphs (histogram/bar graph) of sampled columns:"
      ]
    },
    {
      "cell_type": "code",
      "execution_count": null,
      "metadata": {
        "_kg_hide-input": false,
        "id": "wrWSFYDNVTwd"
      },
      "outputs": [],
      "source": [
        "plotPerColumnDistribution(df2, 10, 5)"
      ]
    },
    {
      "cell_type": "markdown",
      "metadata": {
        "id": "-tAvVJDsVTwd"
      },
      "source": [
        "Correlation matrix:"
      ]
    },
    {
      "cell_type": "code",
      "execution_count": null,
      "metadata": {
        "_kg_hide-input": false,
        "id": "tg2OlW9BVTwd"
      },
      "outputs": [],
      "source": [
        "plotCorrelationMatrix(df2, 8)"
      ]
    },
    {
      "cell_type": "markdown",
      "metadata": {
        "id": "nhEzvhfuVTwd"
      },
      "source": [
        "Scatter and density plots:"
      ]
    },
    {
      "cell_type": "code",
      "execution_count": null,
      "metadata": {
        "_kg_hide-input": false,
        "id": "-UfP1XzZVTwd"
      },
      "outputs": [],
      "source": [
        "plotScatterMatrix(df2, 6, 15)"
      ]
    },
    {
      "cell_type": "markdown",
      "metadata": {
        "id": "jVAe14rQVTwe"
      },
      "source": [
        "### Let's check 3rd file: /kaggle/input/exp3_4drivers_1car_1route.csv"
      ]
    },
    {
      "cell_type": "code",
      "execution_count": null,
      "metadata": {
        "_kg_hide-input": false,
        "id": "95_gbW4hVTwe"
      },
      "outputs": [],
      "source": [
        "nRowsRead = 1000 # specify 'None' if want to read whole file\n",
        "# exp3_4drivers_1car_1route.csv may have more rows in reality, but we are only loading/previewing the first 1000 rows\n",
        "df3 = pd.read_csv('/kaggle/input/exp3_4drivers_1car_1route.csv', delimiter=',', nrows = nRowsRead)\n",
        "df3.dataframeName = 'exp3_4drivers_1car_1route.csv'\n",
        "nRow, nCol = df3.shape\n",
        "print(f'There are {nRow} rows and {nCol} columns')"
      ]
    },
    {
      "cell_type": "markdown",
      "metadata": {
        "id": "fsKTK1pMVTwf"
      },
      "source": [
        "Let's take a quick look at what the data looks like:"
      ]
    },
    {
      "cell_type": "code",
      "execution_count": null,
      "metadata": {
        "_kg_hide-input": false,
        "id": "PZ_e5Wt5VTwf"
      },
      "outputs": [],
      "source": [
        "df3.head(5)"
      ]
    },
    {
      "cell_type": "markdown",
      "metadata": {
        "id": "Jibt2v3_VTwf"
      },
      "source": [
        "Distribution graphs (histogram/bar graph) of sampled columns:"
      ]
    },
    {
      "cell_type": "code",
      "execution_count": null,
      "metadata": {
        "_kg_hide-input": false,
        "id": "mB5No3r1VTwf"
      },
      "outputs": [],
      "source": [
        "plotPerColumnDistribution(df3, 10, 5)"
      ]
    },
    {
      "cell_type": "markdown",
      "metadata": {
        "id": "GJAmHxuqVTwf"
      },
      "source": [
        "Correlation matrix:"
      ]
    },
    {
      "cell_type": "code",
      "execution_count": null,
      "metadata": {
        "_kg_hide-input": false,
        "id": "fH-27N7aVTwf"
      },
      "outputs": [],
      "source": [
        "plotCorrelationMatrix(df3, 8)"
      ]
    },
    {
      "cell_type": "markdown",
      "metadata": {
        "id": "tfdCI_rMVTwj"
      },
      "source": [
        "Scatter and density plots:"
      ]
    },
    {
      "cell_type": "code",
      "execution_count": null,
      "metadata": {
        "_kg_hide-input": false,
        "id": "nhdcYA4GVTwj"
      },
      "outputs": [],
      "source": [
        "plotScatterMatrix(df3, 20, 10)"
      ]
    },
    {
      "cell_type": "markdown",
      "metadata": {
        "id": "etEtCKjtVTwk"
      },
      "source": [
        "## Conclusion\n",
        "This concludes your starter analysis! To go forward from here, click the blue \"Edit Notebook\" button at the top of the kernel. This will create a copy of the code and environment for you to edit. Delete, modify, and add code as you please. Happy Kaggling!"
      ]
    }
  ],
  "metadata": {
    "colab": {
      "name": "Starter: OBD-II datasets 94b44b33-f",
      "provenance": []
    },
    "kernelspec": {
      "display_name": "res_jup",
      "language": "python",
      "name": "res_jup"
    },
    "language_info": {
      "codemirror_mode": {
        "name": "ipython",
        "version": 3
      },
      "file_extension": ".py",
      "mimetype": "text/x-python",
      "name": "python",
      "nbconvert_exporter": "python",
      "pygments_lexer": "ipython3",
      "version": "3.10.16"
    }
  },
  "nbformat": 4,
  "nbformat_minor": 0
}
